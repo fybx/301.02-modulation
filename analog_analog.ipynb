{
 "cells": [
  {
   "cell_type": "code",
   "execution_count": null,
   "metadata": {},
   "outputs": [],
   "source": [
    "%pip install plotly\n",
    "%pip install nbformat\n",
    "%pip install ipython\n",
    "%pip install numpy"
   ]
  },
  {
   "cell_type": "code",
   "execution_count": null,
   "metadata": {},
   "outputs": [],
   "source": [
    "from __future__ import annotations\n",
    "import plotly.graph_objects as go\n",
    "import numpy as np\n",
    "from numpy.typing import NDArray\n",
    "from numpy import float64, floating\n",
    "from typing import Any, Optional"
   ]
  },
  {
   "cell_type": "markdown",
   "metadata": {},
   "source": [
    "# Analog'tan analog'a çevrim (modülasyon)\n",
    "Analog sinyal, zaman komponentine bağlı olarak değişen sürekli (continuous) bir özelliğe sahip olan sinyaldir.\n",
    "\n",
    "## Modülasyonun hedefi\n",
    "Analogtan analog'a çevrim işlemi ile analog veri, analog bir sinyal haline getirilir. \n",
    "\n",
    "Analog bir sinyalin bulunduğu durumda ise hedeflenen farklı bir *taşıyıcı sinyal*den yararlanılarak bilgiyi taşıyan analog sinyali aktarmaktır.\n",
    "\n",
    "## Modülasyon neden gerekir\n",
    "- Analog (bilgi) sinyalinin iletileceği ortam, eldeki sinyalin frekansı için uygun olmadığı zaman\n",
    "- Sinyal iletimi [bandpass](https://en.wikipedia.org/wiki/Band-pass_filter) bir kanaldan yapılacağı zaman\n",
    "- Sinyal iletimi için kullanılacak ortamda (kanalda) birden fazla sinyal bulunması durumunda"
   ]
  },
  {
   "cell_type": "code",
   "execution_count": null,
   "metadata": {},
   "outputs": [],
   "source": [
    "class BasicSignal:\n",
    "    _frequency: int\n",
    "    _amplitude: int\n",
    "    _phase: int\n",
    "    _sampling_frequency: int\n",
    "    _length: int\n",
    "    _signal_w: NDArray[floating]\n",
    "    _signal_t: NDArray[floating]\n",
    "    \n",
    "    def __init__(self, frequency: int, amplitude: int, phase: int, sampling_frequency: int, length: int):\n",
    "        self._frequency = frequency\n",
    "        self._amplitude = amplitude\n",
    "        self._phase = phase\n",
    "        self._sampling_frequency = sampling_frequency\n",
    "        self._length = length\n",
    "        self._compute_signal()\n",
    "        \n",
    "    def _compute_signal(self) -> None:\n",
    "        self._signal_t = np.linspace(0, self._length, self._sampling_frequency * self._length)\n",
    "        # self._signal_t = np.arange(0, self._length, 1 / self._sampling_frequency)\n",
    "        self._signal_w = self._amplitude * np.sin(2 * np.pi * self._frequency * self._signal_t + self._phase)\n",
    "    \n",
    "    def get_signal_elements(self):\n",
    "        return self._signal_w, self._signal_t\n",
    "    \n",
    "    @classmethod\n",
    "    def modify_signal(cls, signal: 'BasicSignal', frequency: Optional[int] = None, amplitude: Optional[int] = None, phase: Optional[int] = None, sampling_frequency: Optional[int] = None, length: Optional[int] = None) -> None:\n",
    "        if frequency is not None:\n",
    "            signal._frequency = frequency\n",
    "        if amplitude is not None:\n",
    "            signal._amplitude = amplitude\n",
    "        if phase is not None:\n",
    "            signal._phase = phase\n",
    "        if sampling_frequency is not None:\n",
    "            signal._sampling_frequency = sampling_frequency\n",
    "        if length is not None:\n",
    "            signal._length = length\n",
    "        signal._compute_signal()\n",
    "    \n",
    "    def plot_signal(self, name: str = 'Unnamed signal') -> None:\n",
    "        fig = go.Figure(layout=go.Layout(title=name, xaxis=dict(title='t-component'), yaxis=dict(title='w-component')))\n",
    "        fig.add_trace(go.Scatter(x=self._signal_t, y=self._signal_w))\n",
    "        fig.show()\n",
    "\n",
    "    @classmethod\n",
    "    def copy_and_modify(cls, signal: 'BasicSignal', frequency: Optional[int] = None, amplitude: Optional[int] = None, phase: Optional[int] = None, sampling_frequency: Optional[int] = None, length: Optional[int] = None) -> 'BasicSignal':\n",
    "        signal_copy: 'BasicSignal' = cls(signal._frequency, signal._amplitude, signal._phase, signal._sampling_frequency, signal._length)\n",
    "        cls.modify_signal(signal_copy, frequency, amplitude, phase, sampling_frequency, length)\n",
    "        return signal_copy\n",
    "    \n",
    "    @classmethod\n",
    "    def from_tuple(cls, signal: tuple[int, int, int, int, int]):\n",
    "        return cls(*signal)"
   ]
  },
  {
   "cell_type": "code",
   "execution_count": null,
   "metadata": {},
   "outputs": [],
   "source": [
    "class CompositeSignal:\n",
    "    _sampling_rate: int\n",
    "    _length: int\n",
    "    _signal_w: NDArray[floating]\n",
    "    _signal_t: NDArray[floating]\n",
    "    \n",
    "    def __init__(self, signal_w: NDArray[floating], signal_t: NDArray[floating]):\n",
    "        self._signal_w = signal_w\n",
    "        self._signal_t = signal_t\n",
    "        self._find_primitives()\n",
    "        \n",
    "    def plot_signal(self, name: str = 'Unnamed signal') -> None:\n",
    "        fig = go.Figure(layout=go.Layout(title=name, xaxis=dict(title='t-component'), yaxis=dict(title='w-component')))\n",
    "        fig.add_trace(go.Scatter(x=self._signal_t, y=self._signal_w))\n",
    "        fig.show()\n",
    "    \n",
    "    def _find_primitives(self) -> None:\n",
    "        self._length = self._signal_t[-1]\n",
    "        self._sampling_rate = (len(self._signal_t) - 1) / self._length\n",
    "    "
   ]
  },
  {
   "cell_type": "code",
   "execution_count": null,
   "metadata": {},
   "outputs": [],
   "source": [
    "signal = BasicSignal(1, 0.1, 0, 1000, 10)\n",
    "signal2 = BasicSignal(100, 0.1, 0, 10000, 1)\n",
    "signal.plot_signal('Modulating signal')\n",
    "signal2.plot_signal('Carrier signal')"
   ]
  },
  {
   "cell_type": "code",
   "execution_count": null,
   "metadata": {},
   "outputs": [],
   "source": [
    "def do_am_modulation(modulating_signal: BasicSignal, carrier_signal: BasicSignal):\n",
    "    carrier = BasicSignal.copy_and_modify(carrier_signal, length=modulating_signal._length, sampling_frequency=modulating_signal._sampling_frequency)\n",
    "    t_component = np.linspace(0, carrier._length, carrier._sampling_frequency * carrier._length)\n",
    "    modulated_result = np.empty((1,))\n",
    "    carrier_warr = carrier.get_signal_elements()[0]\n",
    "    modulator_warr = modulating_signal.get_signal_elements()[0]\n",
    "    for carrier_w, modulator_w in zip(carrier_warr, modulator_warr):\n",
    "        modulated_result = np.append(modulated_result, (carrier_w * (1 + modulator_w/modulating_signal._amplitude)))\n",
    "    return CompositeSignal(modulated_result, t_component)"
   ]
  },
  {
   "cell_type": "code",
   "execution_count": null,
   "metadata": {},
   "outputs": [],
   "source": [
    "composite = do_am_modulation(signal, signal2)\n",
    "composite.plot_signal('AM-modulated signal')"
   ]
  },
  {
   "cell_type": "code",
   "execution_count": null,
   "metadata": {},
   "outputs": [],
   "source": [
    "INTEGRAL_SENS=10000000\n",
    "def do_fm_modulation_detailed(modulating_signal: BasicSignal, carrier_signal: BasicSignal, sensitivity: int):\n",
    "    carrier = BasicSignal.copy_and_modify(carrier_signal, length=modulating_signal._length, sampling_frequency=modulating_signal._sampling_frequency)\n",
    "    w_mod, t_component = modulating_signal.get_signal_elements()\n",
    "    \n",
    "    w_res = carrier._amplitude * np.cos(2 * np.pi * carrier._frequency * t_component + 2 * np.pi * sensitivity * modulating_signal._amplitude * np.trapz(w_mod, t_component, dx=1/INTEGRAL_SENS))\n",
    "    \n",
    "    return CompositeSignal(w_res, t_component)"
   ]
  },
  {
   "cell_type": "code",
   "execution_count": null,
   "metadata": {},
   "outputs": [],
   "source": [
    "def do_fm_modulation_fast(modulating_signal: BasicSignal, carrier_signal: BasicSignal, sensitivity: int) -> CompositeSignal:\n",
    "    carrier = BasicSignal.copy_and_modify(carrier_signal, length=modulating_signal._length, sampling_frequency=modulating_signal._sampling_frequency)\n",
    "    w_mod, t_component = modulating_signal.get_signal_elements()\n",
    "    # w_res = carrier._amplitude * np.cos(2 * np.pi * (carrier._frequency + sensitivity * modulating_signal._amplitude * w_mod) * t_component)\n",
    "    w_res = carrier._amplitude * np.cos(2 * np.pi * carrier._frequency * t_component + (sensitivity*modulating_signal._amplitude/modulating_signal._frequency) * np.sin(2 * np.pi * modulating_signal._frequency * t_component))\n",
    "    \n",
    "    return CompositeSignal(w_res, t_component)"
   ]
  },
  {
   "cell_type": "code",
   "execution_count": null,
   "metadata": {},
   "outputs": [],
   "source": [
    "def do_fm_modulation(modulating_signal: BasicSignal, carrier_signal: BasicSignal, sensitivity: int, fast: bool = True) -> CompositeSignal:\n",
    "    if fast:\n",
    "        return do_fm_modulation_fast(modulating_signal, carrier_signal, sensitivity)\n",
    "    else:\n",
    "        return do_fm_modulation_detailed(modulating_signal, carrier_signal, sensitivity)"
   ]
  },
  {
   "cell_type": "code",
   "execution_count": null,
   "metadata": {},
   "outputs": [],
   "source": [
    "signal = BasicSignal(1, 0.1, 0, 100000, 10)\n",
    "signal2 = BasicSignal(500, 0.1, 0, 100000, 1)\n",
    "\n",
    "fm_result = do_fm_modulation(signal, signal2, 0)\n",
    "fm_result.plot_signal('FM-modulated signal')\n",
    "fm_result2 = do_fm_modulation(signal, signal2, 0, False)\n",
    "fm_result2.plot_signal('FM-modulated signal')\n",
    "\n",
    "difference = fm_result._signal_w - fm_result2._signal_w\n",
    "fig = go.Figure(layout=go.Layout(title='Difference Plot', xaxis=dict(title='Index'), yaxis=dict(title='Difference')))\n",
    "fig.add_trace(go.Scatter(x=np.arange(len(difference)), y=difference))\n",
    "fig.show()\n"
   ]
  },
  {
   "cell_type": "code",
   "execution_count": null,
   "metadata": {},
   "outputs": [],
   "source": [
    "def do_pm_modulation(modulating_signal: BasicSignal, carrier_signal: BasicSignal) -> CompositeSignal:\n",
    "    carrier = BasicSignal.copy_and_modify(carrier_signal, length=modulating_signal._length, sampling_frequency=modulating_signal._sampling_frequency)\n",
    "    w_mod, t_component = modulating_signal.get_signal_elements()\n",
    "    w_car = carrier.get_signal_elements()[0]\n",
    "    w_res = np.pi/2*np.sin((w_car*t_component)+(np.pi*np.sin(w_mod*t_component)/2))\n",
    "    return CompositeSignal(w_res, t_component)"
   ]
  },
  {
   "cell_type": "code",
   "execution_count": null,
   "metadata": {},
   "outputs": [],
   "source": [
    "signal = BasicSignal(1, 0.1, 0, 10000, 1)\n",
    "signal2 = BasicSignal(100, 0.1, 0, 10000, 1)\n",
    "do_pm_modulation(signal, signal2).plot_signal('PM-modulated signal')"
   ]
  }
 ],
 "metadata": {
  "kernelspec": {
   "display_name": ".venv",
   "language": "python",
   "name": "python3"
  },
  "language_info": {
   "codemirror_mode": {
    "name": "ipython",
    "version": 3
   },
   "file_extension": ".py",
   "mimetype": "text/x-python",
   "name": "python",
   "nbconvert_exporter": "python",
   "pygments_lexer": "ipython3",
   "version": "3.11.6"
  }
 },
 "nbformat": 4,
 "nbformat_minor": 2
}
